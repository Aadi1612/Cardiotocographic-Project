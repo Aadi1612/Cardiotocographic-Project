{
  "cells": [
    {
      "cell_type": "markdown",
      "metadata": {
        "id": "view-in-github",
        "colab_type": "text"
      },
      "source": [
        "<a href=\"https://colab.research.google.com/github/Aadi1612/Cardiotocographic-Project/blob/main/cardiotocology_mlproject.ipynb\" target=\"_parent\"><img src=\"https://colab.research.google.com/assets/colab-badge.svg\" alt=\"Open In Colab\"/></a>"
      ]
    },
    {
      "cell_type": "code",
      "execution_count": null,
      "metadata": {
        "id": "MdTOun29qFyr"
      },
      "outputs": [],
      "source": [
        "import pandas as pd\n",
        "import numpy as np\n",
        "import warnings\n",
        "warnings.filterwarnings(\"ignore\")"
      ]
    },
    {
      "cell_type": "code",
      "execution_count": null,
      "metadata": {
        "id": "WMMrqyK4qFyw"
      },
      "outputs": [],
      "source": [
        "df=pd.read_csv(\"/content/CTG.csv\")"
      ]
    },
    {
      "cell_type": "code",
      "execution_count": null,
      "metadata": {
        "id": "yipP-2z_qFyx",
        "outputId": "1f5c9eb7-609a-4702-efdb-29c95b9ebda6"
      },
      "outputs": [
        {
          "data": {
            "text/html": [
              "<div>\n",
              "<style scoped>\n",
              "    .dataframe tbody tr th:only-of-type {\n",
              "        vertical-align: middle;\n",
              "    }\n",
              "\n",
              "    .dataframe tbody tr th {\n",
              "        vertical-align: top;\n",
              "    }\n",
              "\n",
              "    .dataframe thead th {\n",
              "        text-align: right;\n",
              "    }\n",
              "</style>\n",
              "<table border=\"1\" class=\"dataframe\">\n",
              "  <thead>\n",
              "    <tr style=\"text-align: right;\">\n",
              "      <th></th>\n",
              "      <th>FileName</th>\n",
              "      <th>Date</th>\n",
              "      <th>SegFile</th>\n",
              "      <th>b</th>\n",
              "      <th>e</th>\n",
              "      <th>LBE</th>\n",
              "      <th>LB</th>\n",
              "      <th>AC</th>\n",
              "      <th>FM</th>\n",
              "      <th>UC</th>\n",
              "      <th>...</th>\n",
              "      <th>C</th>\n",
              "      <th>D</th>\n",
              "      <th>E</th>\n",
              "      <th>AD</th>\n",
              "      <th>DE</th>\n",
              "      <th>LD</th>\n",
              "      <th>FS</th>\n",
              "      <th>SUSP</th>\n",
              "      <th>CLASS</th>\n",
              "      <th>NSP</th>\n",
              "    </tr>\n",
              "  </thead>\n",
              "  <tbody>\n",
              "    <tr>\n",
              "      <th>0</th>\n",
              "      <td>Variab10.txt</td>\n",
              "      <td>12/1/1996</td>\n",
              "      <td>CTG0001.txt</td>\n",
              "      <td>240.0</td>\n",
              "      <td>357.0</td>\n",
              "      <td>120.0</td>\n",
              "      <td>120.0</td>\n",
              "      <td>0.0</td>\n",
              "      <td>0.0</td>\n",
              "      <td>0.0</td>\n",
              "      <td>...</td>\n",
              "      <td>0.0</td>\n",
              "      <td>0.0</td>\n",
              "      <td>0.0</td>\n",
              "      <td>0.0</td>\n",
              "      <td>0.0</td>\n",
              "      <td>0.0</td>\n",
              "      <td>1.0</td>\n",
              "      <td>0.0</td>\n",
              "      <td>9.0</td>\n",
              "      <td>2.0</td>\n",
              "    </tr>\n",
              "    <tr>\n",
              "      <th>1</th>\n",
              "      <td>Fmcs_1.txt</td>\n",
              "      <td>5/3/1996</td>\n",
              "      <td>CTG0002.txt</td>\n",
              "      <td>5.0</td>\n",
              "      <td>632.0</td>\n",
              "      <td>132.0</td>\n",
              "      <td>132.0</td>\n",
              "      <td>4.0</td>\n",
              "      <td>0.0</td>\n",
              "      <td>4.0</td>\n",
              "      <td>...</td>\n",
              "      <td>0.0</td>\n",
              "      <td>0.0</td>\n",
              "      <td>0.0</td>\n",
              "      <td>1.0</td>\n",
              "      <td>0.0</td>\n",
              "      <td>0.0</td>\n",
              "      <td>0.0</td>\n",
              "      <td>0.0</td>\n",
              "      <td>6.0</td>\n",
              "      <td>1.0</td>\n",
              "    </tr>\n",
              "    <tr>\n",
              "      <th>2</th>\n",
              "      <td>Fmcs_1.txt</td>\n",
              "      <td>5/3/1996</td>\n",
              "      <td>CTG0003.txt</td>\n",
              "      <td>177.0</td>\n",
              "      <td>779.0</td>\n",
              "      <td>133.0</td>\n",
              "      <td>133.0</td>\n",
              "      <td>2.0</td>\n",
              "      <td>0.0</td>\n",
              "      <td>5.0</td>\n",
              "      <td>...</td>\n",
              "      <td>0.0</td>\n",
              "      <td>0.0</td>\n",
              "      <td>0.0</td>\n",
              "      <td>1.0</td>\n",
              "      <td>0.0</td>\n",
              "      <td>0.0</td>\n",
              "      <td>0.0</td>\n",
              "      <td>0.0</td>\n",
              "      <td>6.0</td>\n",
              "      <td>1.0</td>\n",
              "    </tr>\n",
              "    <tr>\n",
              "      <th>3</th>\n",
              "      <td>Fmcs_1.txt</td>\n",
              "      <td>5/3/1996</td>\n",
              "      <td>CTG0004.txt</td>\n",
              "      <td>411.0</td>\n",
              "      <td>1192.0</td>\n",
              "      <td>134.0</td>\n",
              "      <td>134.0</td>\n",
              "      <td>2.0</td>\n",
              "      <td>0.0</td>\n",
              "      <td>6.0</td>\n",
              "      <td>...</td>\n",
              "      <td>0.0</td>\n",
              "      <td>0.0</td>\n",
              "      <td>0.0</td>\n",
              "      <td>1.0</td>\n",
              "      <td>0.0</td>\n",
              "      <td>0.0</td>\n",
              "      <td>0.0</td>\n",
              "      <td>0.0</td>\n",
              "      <td>6.0</td>\n",
              "      <td>1.0</td>\n",
              "    </tr>\n",
              "    <tr>\n",
              "      <th>4</th>\n",
              "      <td>Fmcs_1.txt</td>\n",
              "      <td>5/3/1996</td>\n",
              "      <td>CTG0005.txt</td>\n",
              "      <td>533.0</td>\n",
              "      <td>1147.0</td>\n",
              "      <td>132.0</td>\n",
              "      <td>132.0</td>\n",
              "      <td>4.0</td>\n",
              "      <td>0.0</td>\n",
              "      <td>5.0</td>\n",
              "      <td>...</td>\n",
              "      <td>0.0</td>\n",
              "      <td>0.0</td>\n",
              "      <td>0.0</td>\n",
              "      <td>0.0</td>\n",
              "      <td>0.0</td>\n",
              "      <td>0.0</td>\n",
              "      <td>0.0</td>\n",
              "      <td>0.0</td>\n",
              "      <td>2.0</td>\n",
              "      <td>1.0</td>\n",
              "    </tr>\n",
              "  </tbody>\n",
              "</table>\n",
              "<p>5 rows × 40 columns</p>\n",
              "</div>"
            ],
            "text/plain": [
              "       FileName       Date      SegFile      b       e    LBE     LB   AC  \\\n",
              "0  Variab10.txt  12/1/1996  CTG0001.txt  240.0   357.0  120.0  120.0  0.0   \n",
              "1    Fmcs_1.txt   5/3/1996  CTG0002.txt    5.0   632.0  132.0  132.0  4.0   \n",
              "2    Fmcs_1.txt   5/3/1996  CTG0003.txt  177.0   779.0  133.0  133.0  2.0   \n",
              "3    Fmcs_1.txt   5/3/1996  CTG0004.txt  411.0  1192.0  134.0  134.0  2.0   \n",
              "4    Fmcs_1.txt   5/3/1996  CTG0005.txt  533.0  1147.0  132.0  132.0  4.0   \n",
              "\n",
              "    FM   UC  ...    C    D    E   AD   DE   LD   FS  SUSP  CLASS  NSP  \n",
              "0  0.0  0.0  ...  0.0  0.0  0.0  0.0  0.0  0.0  1.0   0.0    9.0  2.0  \n",
              "1  0.0  4.0  ...  0.0  0.0  0.0  1.0  0.0  0.0  0.0   0.0    6.0  1.0  \n",
              "2  0.0  5.0  ...  0.0  0.0  0.0  1.0  0.0  0.0  0.0   0.0    6.0  1.0  \n",
              "3  0.0  6.0  ...  0.0  0.0  0.0  1.0  0.0  0.0  0.0   0.0    6.0  1.0  \n",
              "4  0.0  5.0  ...  0.0  0.0  0.0  0.0  0.0  0.0  0.0   0.0    2.0  1.0  \n",
              "\n",
              "[5 rows x 40 columns]"
            ]
          },
          "execution_count": 3,
          "metadata": {},
          "output_type": "execute_result"
        }
      ],
      "source": [
        "df.head()"
      ]
    },
    {
      "cell_type": "markdown",
      "metadata": {
        "id": "Or_jJE9QqFy0"
      },
      "source": [
        "## FileName:\tof CTG examination\n",
        "## Date:\tof the examination\n",
        "## b:\tstart instant\n",
        "## e:\tend instant\n",
        "## LBE:\tbaseline value (medical expert)\n",
        "## LB:\tbaseline value (SisPorto)\n",
        "## AC:\taccelerations (SisPorto)\n",
        "## FM:\tfoetal movement (SisPorto)\n",
        "## UC:\tuterine contractions (SisPorto)\n",
        "## ASTV:\tpercentage of time with abnormal short term variability  (SisPorto)\n",
        "## mSTV:\tmean value of short term variability  (SisPorto)\n",
        "## ALTV:\tpercentage of time with abnormal long term variability  (SisPorto)\n",
        "## mLTV:\tmean value of long term variability  (SisPorto)\n",
        "## DL:\tlight decelerations\n",
        "## DS:\tsevere decelerations\n",
        "## DP:\tprolongued decelerations\n",
        "## DR:\trepetitive decelerations\n",
        "## Width:\thistogram width\n",
        "## Min:\tlow freq. of the histogram\n",
        "## Max:\thigh freq. of the histogram\n",
        "## Nmax:\tnumber of histogram peaks\n",
        "## Nzeros:\tnumber of histogram zeros\n",
        "## Mode:\thistogram mode\n",
        "## Mean:\thistogram mean\n",
        "## Median:\thistogram median\n",
        "## Variance:\thistogram variance\n",
        "## Tendency:\thistogram tendency: -1=left assymetric; 0=symmetric; 1=right assymetric\n",
        "## A:\tcalm sleep\n",
        "## B:\tREM sleep\n",
        "## C:\tcalm vigilance\n",
        "## D:\tactive vigilance\n",
        "## SH:\tshift pattern (A or Susp with shifts)\n",
        "## AD:\taccelerative/decelerative pattern (stress situation)\n",
        "## DE:\tdecelerative pattern (vagal stimulation)\n",
        "## LD:\tlargely decelerative pattern\n",
        "## FS:\tflat-sinusoidal pattern (pathological state)\n",
        "## SUSP:\tsuspect pattern\n",
        "## CLASS:\tClass code (1 to 10) for classes A to SUSP\n",
        "## NSP:\tNormal=1; Suspect=2; Pathologic=3\n"
      ]
    },
    {
      "cell_type": "code",
      "execution_count": null,
      "metadata": {
        "id": "b88eQpfCqFy5"
      },
      "outputs": [],
      "source": [
        "df=df.drop([\"FileName\",\"Date\",\"SegFile\",\"b\",\"e\"],axis=1)"
      ]
    },
    {
      "cell_type": "code",
      "execution_count": null,
      "metadata": {
        "id": "4rZ3qOUDqFy7",
        "outputId": "9dcfd31c-9763-4ba4-eea3-d487cc8710a8"
      },
      "outputs": [
        {
          "data": {
            "text/html": [
              "<div>\n",
              "<style scoped>\n",
              "    .dataframe tbody tr th:only-of-type {\n",
              "        vertical-align: middle;\n",
              "    }\n",
              "\n",
              "    .dataframe tbody tr th {\n",
              "        vertical-align: top;\n",
              "    }\n",
              "\n",
              "    .dataframe thead th {\n",
              "        text-align: right;\n",
              "    }\n",
              "</style>\n",
              "<table border=\"1\" class=\"dataframe\">\n",
              "  <thead>\n",
              "    <tr style=\"text-align: right;\">\n",
              "      <th></th>\n",
              "      <th>LBE</th>\n",
              "      <th>LB</th>\n",
              "      <th>AC</th>\n",
              "      <th>FM</th>\n",
              "      <th>UC</th>\n",
              "      <th>ASTV</th>\n",
              "      <th>MSTV</th>\n",
              "      <th>ALTV</th>\n",
              "      <th>MLTV</th>\n",
              "      <th>DL</th>\n",
              "      <th>...</th>\n",
              "      <th>C</th>\n",
              "      <th>D</th>\n",
              "      <th>E</th>\n",
              "      <th>AD</th>\n",
              "      <th>DE</th>\n",
              "      <th>LD</th>\n",
              "      <th>FS</th>\n",
              "      <th>SUSP</th>\n",
              "      <th>CLASS</th>\n",
              "      <th>NSP</th>\n",
              "    </tr>\n",
              "  </thead>\n",
              "  <tbody>\n",
              "    <tr>\n",
              "      <th>0</th>\n",
              "      <td>120.0</td>\n",
              "      <td>120.0</td>\n",
              "      <td>0.0</td>\n",
              "      <td>0.0</td>\n",
              "      <td>0.0</td>\n",
              "      <td>73.0</td>\n",
              "      <td>0.5</td>\n",
              "      <td>43.0</td>\n",
              "      <td>2.4</td>\n",
              "      <td>0.0</td>\n",
              "      <td>...</td>\n",
              "      <td>0.0</td>\n",
              "      <td>0.0</td>\n",
              "      <td>0.0</td>\n",
              "      <td>0.0</td>\n",
              "      <td>0.0</td>\n",
              "      <td>0.0</td>\n",
              "      <td>1.0</td>\n",
              "      <td>0.0</td>\n",
              "      <td>9.0</td>\n",
              "      <td>2.0</td>\n",
              "    </tr>\n",
              "    <tr>\n",
              "      <th>1</th>\n",
              "      <td>132.0</td>\n",
              "      <td>132.0</td>\n",
              "      <td>4.0</td>\n",
              "      <td>0.0</td>\n",
              "      <td>4.0</td>\n",
              "      <td>17.0</td>\n",
              "      <td>2.1</td>\n",
              "      <td>0.0</td>\n",
              "      <td>10.4</td>\n",
              "      <td>2.0</td>\n",
              "      <td>...</td>\n",
              "      <td>0.0</td>\n",
              "      <td>0.0</td>\n",
              "      <td>0.0</td>\n",
              "      <td>1.0</td>\n",
              "      <td>0.0</td>\n",
              "      <td>0.0</td>\n",
              "      <td>0.0</td>\n",
              "      <td>0.0</td>\n",
              "      <td>6.0</td>\n",
              "      <td>1.0</td>\n",
              "    </tr>\n",
              "    <tr>\n",
              "      <th>2</th>\n",
              "      <td>133.0</td>\n",
              "      <td>133.0</td>\n",
              "      <td>2.0</td>\n",
              "      <td>0.0</td>\n",
              "      <td>5.0</td>\n",
              "      <td>16.0</td>\n",
              "      <td>2.1</td>\n",
              "      <td>0.0</td>\n",
              "      <td>13.4</td>\n",
              "      <td>2.0</td>\n",
              "      <td>...</td>\n",
              "      <td>0.0</td>\n",
              "      <td>0.0</td>\n",
              "      <td>0.0</td>\n",
              "      <td>1.0</td>\n",
              "      <td>0.0</td>\n",
              "      <td>0.0</td>\n",
              "      <td>0.0</td>\n",
              "      <td>0.0</td>\n",
              "      <td>6.0</td>\n",
              "      <td>1.0</td>\n",
              "    </tr>\n",
              "    <tr>\n",
              "      <th>3</th>\n",
              "      <td>134.0</td>\n",
              "      <td>134.0</td>\n",
              "      <td>2.0</td>\n",
              "      <td>0.0</td>\n",
              "      <td>6.0</td>\n",
              "      <td>16.0</td>\n",
              "      <td>2.4</td>\n",
              "      <td>0.0</td>\n",
              "      <td>23.0</td>\n",
              "      <td>2.0</td>\n",
              "      <td>...</td>\n",
              "      <td>0.0</td>\n",
              "      <td>0.0</td>\n",
              "      <td>0.0</td>\n",
              "      <td>1.0</td>\n",
              "      <td>0.0</td>\n",
              "      <td>0.0</td>\n",
              "      <td>0.0</td>\n",
              "      <td>0.0</td>\n",
              "      <td>6.0</td>\n",
              "      <td>1.0</td>\n",
              "    </tr>\n",
              "    <tr>\n",
              "      <th>4</th>\n",
              "      <td>132.0</td>\n",
              "      <td>132.0</td>\n",
              "      <td>4.0</td>\n",
              "      <td>0.0</td>\n",
              "      <td>5.0</td>\n",
              "      <td>16.0</td>\n",
              "      <td>2.4</td>\n",
              "      <td>0.0</td>\n",
              "      <td>19.9</td>\n",
              "      <td>0.0</td>\n",
              "      <td>...</td>\n",
              "      <td>0.0</td>\n",
              "      <td>0.0</td>\n",
              "      <td>0.0</td>\n",
              "      <td>0.0</td>\n",
              "      <td>0.0</td>\n",
              "      <td>0.0</td>\n",
              "      <td>0.0</td>\n",
              "      <td>0.0</td>\n",
              "      <td>2.0</td>\n",
              "      <td>1.0</td>\n",
              "    </tr>\n",
              "  </tbody>\n",
              "</table>\n",
              "<p>5 rows × 35 columns</p>\n",
              "</div>"
            ],
            "text/plain": [
              "     LBE     LB   AC   FM   UC  ASTV  MSTV  ALTV  MLTV   DL  ...    C    D  \\\n",
              "0  120.0  120.0  0.0  0.0  0.0  73.0   0.5  43.0   2.4  0.0  ...  0.0  0.0   \n",
              "1  132.0  132.0  4.0  0.0  4.0  17.0   2.1   0.0  10.4  2.0  ...  0.0  0.0   \n",
              "2  133.0  133.0  2.0  0.0  5.0  16.0   2.1   0.0  13.4  2.0  ...  0.0  0.0   \n",
              "3  134.0  134.0  2.0  0.0  6.0  16.0   2.4   0.0  23.0  2.0  ...  0.0  0.0   \n",
              "4  132.0  132.0  4.0  0.0  5.0  16.0   2.4   0.0  19.9  0.0  ...  0.0  0.0   \n",
              "\n",
              "     E   AD   DE   LD   FS  SUSP  CLASS  NSP  \n",
              "0  0.0  0.0  0.0  0.0  1.0   0.0    9.0  2.0  \n",
              "1  0.0  1.0  0.0  0.0  0.0   0.0    6.0  1.0  \n",
              "2  0.0  1.0  0.0  0.0  0.0   0.0    6.0  1.0  \n",
              "3  0.0  1.0  0.0  0.0  0.0   0.0    6.0  1.0  \n",
              "4  0.0  0.0  0.0  0.0  0.0   0.0    2.0  1.0  \n",
              "\n",
              "[5 rows x 35 columns]"
            ]
          },
          "execution_count": 5,
          "metadata": {},
          "output_type": "execute_result"
        }
      ],
      "source": [
        "df.head()"
      ]
    },
    {
      "cell_type": "code",
      "execution_count": null,
      "metadata": {
        "id": "OKIvLmiKqFy8",
        "outputId": "09ed379f-bd16-4d16-f4f1-b488bf86d6de"
      },
      "outputs": [
        {
          "data": {
            "text/plain": [
              "Index(['LBE', 'LB', 'AC', 'FM', 'UC', 'ASTV', 'MSTV', 'ALTV', 'MLTV', 'DL',\n",
              "       'DS', 'DP', 'DR', 'Width', 'Min', 'Max', 'Nmax', 'Nzeros', 'Mode',\n",
              "       'Mean', 'Median', 'Variance', 'Tendency', 'A', 'B', 'C', 'D', 'E', 'AD',\n",
              "       'DE', 'LD', 'FS', 'SUSP', 'CLASS', 'NSP'],\n",
              "      dtype='object')"
            ]
          },
          "execution_count": 6,
          "metadata": {},
          "output_type": "execute_result"
        }
      ],
      "source": [
        "df.columns"
      ]
    },
    {
      "cell_type": "code",
      "execution_count": null,
      "metadata": {
        "id": "gt-lpRpPqFy9",
        "outputId": "035f814d-036f-415d-b018-f0504f9999d8"
      },
      "outputs": [
        {
          "data": {
            "text/plain": [
              "(2129, 35)"
            ]
          },
          "execution_count": 7,
          "metadata": {},
          "output_type": "execute_result"
        }
      ],
      "source": [
        "df.shape"
      ]
    },
    {
      "cell_type": "code",
      "execution_count": null,
      "metadata": {
        "id": "e3-xiLwxqFy9",
        "outputId": "794305f5-14d6-4192-e1fc-441de41804dd"
      },
      "outputs": [
        {
          "data": {
            "text/plain": [
              "LBE         3\n",
              "LB          3\n",
              "AC          3\n",
              "FM          2\n",
              "UC          2\n",
              "ASTV        2\n",
              "MSTV        2\n",
              "ALTV        2\n",
              "MLTV        2\n",
              "DL          1\n",
              "DS          1\n",
              "DP          1\n",
              "DR          1\n",
              "Width       3\n",
              "Min         3\n",
              "Max         3\n",
              "Nmax        3\n",
              "Nzeros      3\n",
              "Mode        3\n",
              "Mean        3\n",
              "Median      3\n",
              "Variance    3\n",
              "Tendency    3\n",
              "A           3\n",
              "B           3\n",
              "C           3\n",
              "D           3\n",
              "E           3\n",
              "AD          3\n",
              "DE          3\n",
              "LD          3\n",
              "FS          3\n",
              "SUSP        3\n",
              "CLASS       3\n",
              "NSP         3\n",
              "dtype: int64"
            ]
          },
          "execution_count": 8,
          "metadata": {},
          "output_type": "execute_result"
        }
      ],
      "source": [
        "df.isnull().sum()"
      ]
    },
    {
      "cell_type": "code",
      "execution_count": null,
      "metadata": {
        "id": "NCzEb3j0qFy_"
      },
      "outputs": [],
      "source": [
        "df=df.dropna()"
      ]
    },
    {
      "cell_type": "code",
      "execution_count": null,
      "metadata": {
        "id": "mqMgAvHdqFzA",
        "outputId": "1c47782e-da2f-4038-a8c5-3d2ed64f85f7"
      },
      "outputs": [
        {
          "data": {
            "text/plain": [
              "LBE         0\n",
              "LB          0\n",
              "AC          0\n",
              "FM          0\n",
              "UC          0\n",
              "ASTV        0\n",
              "MSTV        0\n",
              "ALTV        0\n",
              "MLTV        0\n",
              "DL          0\n",
              "DS          0\n",
              "DP          0\n",
              "DR          0\n",
              "Width       0\n",
              "Min         0\n",
              "Max         0\n",
              "Nmax        0\n",
              "Nzeros      0\n",
              "Mode        0\n",
              "Mean        0\n",
              "Median      0\n",
              "Variance    0\n",
              "Tendency    0\n",
              "A           0\n",
              "B           0\n",
              "C           0\n",
              "D           0\n",
              "E           0\n",
              "AD          0\n",
              "DE          0\n",
              "LD          0\n",
              "FS          0\n",
              "SUSP        0\n",
              "CLASS       0\n",
              "NSP         0\n",
              "dtype: int64"
            ]
          },
          "execution_count": 10,
          "metadata": {},
          "output_type": "execute_result"
        }
      ],
      "source": [
        "df.isnull().sum()"
      ]
    },
    {
      "cell_type": "code",
      "execution_count": null,
      "metadata": {
        "id": "X3sHc5GGqFzB",
        "outputId": "5f1c114e-843d-47f0-c916-60fd24eb4f10"
      },
      "outputs": [
        {
          "data": {
            "text/plain": [
              "LBE         float64\n",
              "LB          float64\n",
              "AC          float64\n",
              "FM          float64\n",
              "UC          float64\n",
              "ASTV        float64\n",
              "MSTV        float64\n",
              "ALTV        float64\n",
              "MLTV        float64\n",
              "DL          float64\n",
              "DS          float64\n",
              "DP          float64\n",
              "DR          float64\n",
              "Width       float64\n",
              "Min         float64\n",
              "Max         float64\n",
              "Nmax        float64\n",
              "Nzeros      float64\n",
              "Mode        float64\n",
              "Mean        float64\n",
              "Median      float64\n",
              "Variance    float64\n",
              "Tendency    float64\n",
              "A           float64\n",
              "B           float64\n",
              "C           float64\n",
              "D           float64\n",
              "E           float64\n",
              "AD          float64\n",
              "DE          float64\n",
              "LD          float64\n",
              "FS          float64\n",
              "SUSP        float64\n",
              "CLASS       float64\n",
              "NSP         float64\n",
              "dtype: object"
            ]
          },
          "execution_count": 11,
          "metadata": {},
          "output_type": "execute_result"
        }
      ],
      "source": [
        "df.dtypes"
      ]
    },
    {
      "cell_type": "code",
      "execution_count": null,
      "metadata": {
        "id": "dR4R92DMqFzC"
      },
      "outputs": [],
      "source": [
        "X=df[['LBE', 'LB', 'AC', 'FM', 'UC', 'DL',\n",
        "       'DS', 'DP', 'DR']]\n",
        "Y=df[[\"NSP\"]]"
      ]
    },
    {
      "cell_type": "markdown",
      "metadata": {
        "id": "ZphKFv5NqFzC"
      },
      "source": [
        "## Peforming the scaling"
      ]
    },
    {
      "cell_type": "code",
      "execution_count": null,
      "metadata": {
        "id": "7YBwXofLqFzD"
      },
      "outputs": [],
      "source": [
        "from sklearn.preprocessing import StandardScaler, MinMaxScaler\n",
        "Scaler=StandardScaler()\n",
        "X=Scaler.fit_transform(X)\n"
      ]
    },
    {
      "cell_type": "code",
      "execution_count": null,
      "metadata": {
        "id": "f0PNeyx_qFzE"
      },
      "outputs": [],
      "source": [
        "\n",
        "from sklearn.model_selection import train_test_split\n",
        "X_train,X_test,y_train,y_test=train_test_split(X,Y,test_size=0.3,random_state=42)"
      ]
    },
    {
      "cell_type": "markdown",
      "metadata": {
        "id": "7N6ECXcSqFzE"
      },
      "source": [
        "## Classifiying the NSP into, Normal=1; Suspect=2; Pathologic=3"
      ]
    },
    {
      "cell_type": "markdown",
      "metadata": {
        "id": "HKf4EOtvqFzF"
      },
      "source": [
        "### CHecking for appropriate values of gamma"
      ]
    },
    {
      "cell_type": "code",
      "execution_count": null,
      "metadata": {
        "id": "HMiZBRIjqFzF"
      },
      "outputs": [],
      "source": [
        "from sklearn.svm import SVC\n",
        "\n",
        "svm_clf=SVC(kernel=\"poly\",degree=6,coef0=5,gamma=0.1)\n",
        "svm_clf=svm_clf.fit(X_train,y_train)\n",
        "y_pred=svm_clf.predict(X_test)\n"
      ]
    },
    {
      "cell_type": "markdown",
      "metadata": {
        "id": "aUnxH5pMqFzG"
      },
      "source": [
        "## Calculating different metrics"
      ]
    },
    {
      "cell_type": "code",
      "execution_count": null,
      "metadata": {
        "id": "tEwy1-WLqFzH"
      },
      "outputs": [],
      "source": [
        "from sklearn.metrics import accuracy_score, precision_score, f1_score, recall_score, confusion_matrix"
      ]
    },
    {
      "cell_type": "code",
      "execution_count": null,
      "metadata": {
        "id": "SoWKWbjgqFzH",
        "outputId": "b6ea4449-212d-4908-eafa-28617dafcb6c"
      },
      "outputs": [
        {
          "name": "stdout",
          "output_type": "stream",
          "text": [
            "[[470  20   6]\n",
            " [ 29  62  10]\n",
            " [  8   5  28]]\n"
          ]
        }
      ],
      "source": [
        "print(confusion_matrix(y_test,y_pred))"
      ]
    },
    {
      "cell_type": "code",
      "execution_count": null,
      "metadata": {
        "id": "VjNsVXgqqFzI",
        "outputId": "236403e0-dc86-497a-d548-76b537bd73b2"
      },
      "outputs": [
        {
          "data": {
            "text/plain": [
              "0.8753514883881671"
            ]
          },
          "execution_count": 18,
          "metadata": {},
          "output_type": "execute_result"
        }
      ],
      "source": [
        "f1_score(y_test,y_pred,average='weighted')"
      ]
    },
    {
      "cell_type": "code",
      "execution_count": null,
      "metadata": {
        "id": "hXiJCBKoqFzJ",
        "outputId": "735628c6-a429-4696-fae7-ee9ec0247116"
      },
      "outputs": [
        {
          "data": {
            "text/plain": [
              "0.877742946708464"
            ]
          },
          "execution_count": 19,
          "metadata": {},
          "output_type": "execute_result"
        }
      ],
      "source": [
        "\n",
        "accuracy_score(y_test,y_pred)"
      ]
    },
    {
      "cell_type": "code",
      "execution_count": null,
      "metadata": {
        "id": "yiWceTNAqFzK",
        "outputId": "bdf44e38-f7df-465a-fcc1-07f9f9a624b4"
      },
      "outputs": [
        {
          "data": {
            "text/plain": [
              "0.8744054575648664"
            ]
          },
          "execution_count": 20,
          "metadata": {},
          "output_type": "execute_result"
        }
      ],
      "source": [
        "precision_score(y_test,y_pred,average='weighted')"
      ]
    },
    {
      "cell_type": "code",
      "execution_count": null,
      "metadata": {
        "id": "wmkElc0ZqFzL",
        "outputId": "e1e30f7f-c442-4243-d76d-614a96af9ef3"
      },
      "outputs": [
        {
          "data": {
            "text/plain": [
              "0.877742946708464"
            ]
          },
          "execution_count": 21,
          "metadata": {},
          "output_type": "execute_result"
        }
      ],
      "source": [
        "recall_score(y_test,y_pred,average=\"weighted\")"
      ]
    },
    {
      "cell_type": "markdown",
      "metadata": {
        "id": "lIVIxengqFzM"
      },
      "source": [
        "# Decision Tree Classifier"
      ]
    },
    {
      "cell_type": "code",
      "execution_count": null,
      "metadata": {
        "id": "YyviJQjsqFzQ"
      },
      "outputs": [],
      "source": [
        "from sklearn.tree import DecisionTreeClassifier"
      ]
    },
    {
      "cell_type": "code",
      "execution_count": null,
      "metadata": {
        "id": "k-X_2VzEqFzR"
      },
      "outputs": [],
      "source": [
        "tree_clf=DecisionTreeClassifier(min_samples_split=6, min_samples_leaf=4, max_depth=6, )\n",
        "tree_clf=tree_clf.fit(X_train,y_train)\n",
        "y_pred=tree_clf.predict(X_test)"
      ]
    },
    {
      "cell_type": "code",
      "execution_count": null,
      "metadata": {
        "id": "QPCwRybhqFzR",
        "outputId": "55046852-814f-4e67-e640-eb3e75bc7b39"
      },
      "outputs": [
        {
          "data": {
            "text/plain": [
              "0.8683385579937304"
            ]
          },
          "execution_count": 24,
          "metadata": {},
          "output_type": "execute_result"
        }
      ],
      "source": [
        "accuracy_score(y_test,y_pred)"
      ]
    },
    {
      "cell_type": "code",
      "execution_count": null,
      "metadata": {
        "id": "sh91LU0_qFzS",
        "outputId": "a9690d85-0a10-4cf1-f8ec-29e3ecb9cbb1"
      },
      "outputs": [
        {
          "data": {
            "text/plain": [
              "0.8683385579937304"
            ]
          },
          "execution_count": 25,
          "metadata": {},
          "output_type": "execute_result"
        }
      ],
      "source": [
        "recall_score(y_test,y_pred,average=\"weighted\")"
      ]
    },
    {
      "cell_type": "code",
      "execution_count": null,
      "metadata": {
        "id": "_iQHJIV6qFzT",
        "outputId": "cf7a0b62-128a-413c-e386-de83db5180b8"
      },
      "outputs": [
        {
          "data": {
            "text/plain": [
              "0.8603398399877494"
            ]
          },
          "execution_count": 26,
          "metadata": {},
          "output_type": "execute_result"
        }
      ],
      "source": [
        "precision_score(y_test,y_pred,average='weighted')"
      ]
    },
    {
      "cell_type": "code",
      "execution_count": null,
      "metadata": {
        "id": "thnrY0SDqFzU"
      },
      "outputs": [],
      "source": [
        "from sklearn.tree import export_graphviz\n",
        "export_graphviz(\n",
        "tree_clf, out_file=\"tree.dot\",\n",
        "feature_names=['LBE', 'LB', 'AC', 'FM', 'UC', 'DL',\n",
        "       'DS', 'DP', 'DR'],\n",
        "class_names=\"NSP\",\n",
        "rounded=True,\n",
        "filled=True)"
      ]
    },
    {
      "cell_type": "code",
      "execution_count": null,
      "metadata": {
        "id": "nsBjCYCnqFzU",
        "outputId": "ee4958a7-22cb-4b70-bb94-ef8051b0c104"
      },
      "outputs": [
        {
          "data": {
            "text/plain": [
              "0"
            ]
          },
          "execution_count": 28,
          "metadata": {},
          "output_type": "execute_result"
        }
      ],
      "source": [
        "from subprocess import check_call\n",
        "check_call(['dot','-Tpng','tree.dot','-o','tree.png'])"
      ]
    },
    {
      "cell_type": "code",
      "execution_count": null,
      "metadata": {
        "id": "PaIo__xiqFzV"
      },
      "outputs": [],
      "source": []
    },
    {
      "cell_type": "markdown",
      "metadata": {
        "id": "1-Vbm3xMqFzV"
      },
      "source": [
        "# Using the ensemble technique"
      ]
    },
    {
      "cell_type": "code",
      "execution_count": null,
      "metadata": {
        "id": "akLgl3QDqFzW"
      },
      "outputs": [],
      "source": [
        "from sklearn.ensemble import VotingClassifier, RandomForestClassifier"
      ]
    },
    {
      "cell_type": "code",
      "execution_count": null,
      "metadata": {
        "id": "2U2_5GbPqFzW"
      },
      "outputs": [],
      "source": [
        "svm_clf=SVC(kernel=\"poly\",degree=6,coef0=5,gamma=0.1,probability=True)\n",
        "decision_tree=DecisionTreeClassifier(min_samples_split=6, min_samples_leaf=4, max_depth=6)\n",
        "rnd_clf=RandomForestClassifier()\n",
        "voting_clf=VotingClassifier(estimators=[(\"svm\",svm_clf),('rf',rnd_clf),(\"decision_tree\",decision_tree)],voting=\"hard\")"
      ]
    },
    {
      "cell_type": "code",
      "execution_count": null,
      "metadata": {
        "id": "ggKaSHgrqFzX",
        "outputId": "bbcb58fa-1dd4-40f3-8f6b-10dac95bddf5"
      },
      "outputs": [
        {
          "data": {
            "text/plain": [
              "VotingClassifier(estimators=[('svm',\n",
              "                              SVC(C=1.0, break_ties=False, cache_size=200,\n",
              "                                  class_weight=None, coef0=5,\n",
              "                                  decision_function_shape='ovr', degree=6,\n",
              "                                  gamma=0.1, kernel='poly', max_iter=-1,\n",
              "                                  probability=True, random_state=None,\n",
              "                                  shrinking=True, tol=0.001, verbose=False)),\n",
              "                             ('rf',\n",
              "                              RandomForestClassifier(bootstrap=True,\n",
              "                                                     ccp_alpha=0.0,\n",
              "                                                     class_weight=None,\n",
              "                                                     criterion='gini',\n",
              "                                                     ma...\n",
              "                              DecisionTreeClassifier(ccp_alpha=0.0,\n",
              "                                                     class_weight=None,\n",
              "                                                     criterion='gini',\n",
              "                                                     max_depth=6,\n",
              "                                                     max_features=None,\n",
              "                                                     max_leaf_nodes=None,\n",
              "                                                     min_impurity_decrease=0.0,\n",
              "                                                     min_impurity_split=None,\n",
              "                                                     min_samples_leaf=4,\n",
              "                                                     min_samples_split=6,\n",
              "                                                     min_weight_fraction_leaf=0.0,\n",
              "                                                     presort='deprecated',\n",
              "                                                     random_state=None,\n",
              "                                                     splitter='best'))],\n",
              "                 flatten_transform=True, n_jobs=None, voting='hard',\n",
              "                 weights=None)"
            ]
          },
          "execution_count": 31,
          "metadata": {},
          "output_type": "execute_result"
        }
      ],
      "source": [
        "voting_clf.fit(X_train,y_train)"
      ]
    },
    {
      "cell_type": "code",
      "execution_count": null,
      "metadata": {
        "id": "Ua2bArn_qFzX",
        "outputId": "70e1df63-806a-4202-cae9-e80f05225998"
      },
      "outputs": [
        {
          "name": "stdout",
          "output_type": "stream",
          "text": [
            "RandomForestClassifier 0.8699059561128527\n",
            "SVC 0.877742946708464\n",
            "DecisionTreeClassifier 0.8683385579937304\n",
            "VotingClassifier 0.8840125391849529\n"
          ]
        }
      ],
      "source": [
        "for clf in (rnd_clf, svm_clf,decision_tree, voting_clf):\n",
        "    clf.fit(X_train, y_train)\n",
        "    y_pred = clf.predict(X_test)\n",
        "    print(clf.__class__.__name__, accuracy_score(y_test, y_pred))"
      ]
    },
    {
      "cell_type": "markdown",
      "metadata": {
        "id": "_GOkg12mqFzY"
      },
      "source": [
        "## As, we can observe that there is a slight increase in the overall acuracy while using the ensemble model."
      ]
    },
    {
      "cell_type": "code",
      "execution_count": null,
      "metadata": {
        "id": "2nmlcaHuqFzZ"
      },
      "outputs": [],
      "source": [
        "from sklearn.ensemble import BaggingClassifier"
      ]
    },
    {
      "cell_type": "code",
      "execution_count": null,
      "metadata": {
        "id": "CbV5lga_qFzZ"
      },
      "outputs": [],
      "source": [
        "bag_clf=BaggingClassifier(DecisionTreeClassifier(),n_estimators=500,n_jobs=-1,max_samples=100, bootstrap=True)"
      ]
    },
    {
      "cell_type": "code",
      "execution_count": null,
      "metadata": {
        "id": "i7-qic9DqFza"
      },
      "outputs": [],
      "source": [
        "bag_clf.fit(X_train,y_train)\n",
        "y_pred=bag_clf.predict(X_test)"
      ]
    },
    {
      "cell_type": "code",
      "execution_count": null,
      "metadata": {
        "id": "5Gomg0-oqFza",
        "outputId": "69b6f7ce-7f3a-4bf0-b373-0bdc382efb2e"
      },
      "outputs": [
        {
          "name": "stdout",
          "output_type": "stream",
          "text": [
            "0.8636363636363636\n"
          ]
        }
      ],
      "source": [
        "print(accuracy_score(y_test,y_pred))"
      ]
    },
    {
      "cell_type": "code",
      "execution_count": null,
      "metadata": {
        "id": "EY2hgbf8qFza"
      },
      "outputs": [],
      "source": [
        "##This accuracy is better than our previous decision tree model\n",
        "##Therefore, we will again call ensemble technique."
      ]
    },
    {
      "cell_type": "code",
      "execution_count": null,
      "metadata": {
        "id": "Gxr0U7t6qFzb"
      },
      "outputs": [],
      "source": [
        "voting_clf=VotingClassifier(estimators=[(\"svm\",svm_clf),('rf',rnd_clf),(\"bagging_clf\",bag_clf)],voting=\"hard\")"
      ]
    },
    {
      "cell_type": "code",
      "execution_count": null,
      "metadata": {
        "id": "XC0TbpWKqFzb",
        "outputId": "0ffd1491-03f3-4b75-fef8-6731797334df"
      },
      "outputs": [
        {
          "name": "stdout",
          "output_type": "stream",
          "text": [
            "RandomForestClassifier 0.8699059561128527\n",
            "SVC 0.877742946708464\n",
            "BaggingClassifier 0.8683385579937304\n",
            "VotingClassifier 0.8887147335423198\n"
          ]
        }
      ],
      "source": [
        "for clf in (rnd_clf, svm_clf,bag_clf, voting_clf):\n",
        "    clf.fit(X_train, y_train)\n",
        "    y_pred = clf.predict(X_test)\n",
        "    print(clf.__class__.__name__, accuracy_score(y_test, y_pred))"
      ]
    },
    {
      "cell_type": "code",
      "execution_count": null,
      "metadata": {
        "id": "MSf6cAE9qFzc"
      },
      "outputs": [],
      "source": [
        "##Using trial and hit method, and performing out-of-box evaluation\n",
        "##Since a predictor never sees the oob instances during training, it can be evaluated on these instances,\n",
        "##without the need for a separate validation set or cross-validation. You can evaluate the ensemble itself by\n",
        "##averaging out the oob evaluations of each predictor."
      ]
    },
    {
      "cell_type": "code",
      "execution_count": null,
      "metadata": {
        "id": "XNYF0pMSqFzd",
        "outputId": "5bb7fc4c-f167-4290-e8e6-498a15cb3aac"
      },
      "outputs": [
        {
          "name": "stdout",
          "output_type": "stream",
          "text": [
            "0.8602150537634409\n",
            "0.8699059561128527\n"
          ]
        }
      ],
      "source": [
        "bag_clf=BaggingClassifier(DecisionTreeClassifier(),n_estimators=500,n_jobs=-1,max_samples=100, bootstrap=True,oob_score=True)\n",
        "bag_clf.fit(X_train,y_train)\n",
        "y_pred=bag_clf.predict(X_test)\n",
        "print(bag_clf.oob_score_)\n",
        "print(accuracy_score(y_test,y_pred))"
      ]
    },
    {
      "cell_type": "markdown",
      "metadata": {
        "id": "AAWpg6mqqFzd"
      },
      "source": [
        "# Applying the ADAboost"
      ]
    },
    {
      "cell_type": "code",
      "execution_count": null,
      "metadata": {
        "id": "Mali9DZkqFze"
      },
      "outputs": [],
      "source": [
        "from sklearn.ensemble import AdaBoostClassifier"
      ]
    },
    {
      "cell_type": "code",
      "execution_count": null,
      "metadata": {
        "id": "v2LS4c4XqFze"
      },
      "outputs": [],
      "source": [
        "ada_clf=AdaBoostClassifier(DecisionTreeClassifier(max_depth=1),n_estimators=1000,learning_rate=0.1)"
      ]
    },
    {
      "cell_type": "code",
      "execution_count": null,
      "metadata": {
        "id": "a0tyW8_mqFze"
      },
      "outputs": [],
      "source": [
        "ada_clf.fit(X_train,y_train)\n",
        "y_pred=ada_clf.predict(X_test)"
      ]
    },
    {
      "cell_type": "code",
      "execution_count": null,
      "metadata": {
        "id": "QdDDpIzOqFzf",
        "outputId": "58ce8baa-6152-4065-da87-35be7bb6136a"
      },
      "outputs": [
        {
          "name": "stdout",
          "output_type": "stream",
          "text": [
            "0.8620689655172413\n"
          ]
        }
      ],
      "source": [
        "print(accuracy_score(y_test,y_pred))"
      ]
    },
    {
      "cell_type": "markdown",
      "metadata": {
        "id": "KE5uUoeqqFzf"
      },
      "source": [
        "# Applying XGBoost"
      ]
    },
    {
      "cell_type": "code",
      "execution_count": null,
      "metadata": {
        "id": "JrOGwXEcqFzg"
      },
      "outputs": [],
      "source": [
        "from xgboost import XGBClassifier\n",
        "xgb_clf=XGBClassifier(learning_rate=0.001)\n",
        "xgb_clf.fit(X_train,y_train)\n",
        "y_pred=xgb_clf.predict(X_test)"
      ]
    },
    {
      "cell_type": "code",
      "execution_count": null,
      "metadata": {
        "id": "MmQLHxj2qFzg",
        "outputId": "46f5838d-a02f-457d-cda7-f4585f921cdb"
      },
      "outputs": [
        {
          "name": "stdout",
          "output_type": "stream",
          "text": [
            "0.8824451410658307\n"
          ]
        }
      ],
      "source": [
        "print(accuracy_score(y_test,y_pred))"
      ]
    },
    {
      "cell_type": "code",
      "execution_count": null,
      "metadata": {
        "id": "jGW6U2FaqFzh"
      },
      "outputs": [],
      "source": [
        "voting_clf=VotingClassifier(estimators=[(\"svm\",svm_clf),(\"xgb_clf\",xgb_clf)],voting=\"hard\")\n"
      ]
    },
    {
      "cell_type": "code",
      "execution_count": null,
      "metadata": {
        "id": "5Umk0TkOqFzh",
        "outputId": "0e2ffe9f-582b-44b7-df37-336d178e3bc7"
      },
      "outputs": [
        {
          "name": "stdout",
          "output_type": "stream",
          "text": [
            "SVC 0.877742946708464\n",
            "XGBClassifier 0.8824451410658307\n",
            "VotingClassifier 0.8808777429467085\n"
          ]
        }
      ],
      "source": [
        "for clf in (svm_clf,xgb_clf, voting_clf):\n",
        "    clf.fit(X_train, y_train)\n",
        "    y_pred = clf.predict(X_test)\n",
        "    print(clf.__class__.__name__, accuracy_score(y_test, y_pred))"
      ]
    },
    {
      "cell_type": "code",
      "execution_count": null,
      "metadata": {
        "id": "P1PW7nTrqFzi"
      },
      "outputs": [],
      "source": []
    }
  ],
  "metadata": {
    "kernelspec": {
      "display_name": "Python 3",
      "language": "python",
      "name": "python3"
    },
    "language_info": {
      "codemirror_mode": {
        "name": "ipython",
        "version": 3
      },
      "file_extension": ".py",
      "mimetype": "text/x-python",
      "name": "python",
      "nbconvert_exporter": "python",
      "pygments_lexer": "ipython3",
      "version": "3.6.6"
    },
    "colab": {
      "provenance": [],
      "include_colab_link": true
    }
  },
  "nbformat": 4,
  "nbformat_minor": 0
}